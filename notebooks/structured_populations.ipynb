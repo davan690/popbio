{
 "cells": [
  {
   "cell_type": "code",
   "execution_count": 1,
   "metadata": {},
   "outputs": [],
   "source": [
    "# setup\n",
    "import numpy as np\n",
    "import matplotlib\n",
    "import matplotlib.pyplot as plt\n",
    "from scipy import linalg"
   ]
  },
  {
   "cell_type": "code",
   "execution_count": 2,
   "metadata": {},
   "outputs": [],
   "source": [
    "# setup: has to be in a separate cell for some reason\n",
    "plt.rcParams['figure.figsize'] = [10, 5]"
   ]
  },
  {
   "cell_type": "code",
   "execution_count": 3,
   "metadata": {},
   "outputs": [],
   "source": [
    "# from before\n",
    "def phase_plot(genfn, xlim, ylim, nx, ny, ax, scale=False, **kwargs):\n",
    "    X, Y = np.meshgrid(np.linspace(xlim[0], xlim[1], nx),\n",
    "                       np.linspace(ylim[0], ylim[1], ny))\n",
    "    X.shape = Y.shape = (np.prod(X.shape),)\n",
    "    U, V = genfn(X, Y, **kwargs)\n",
    "    if scale:\n",
    "        q = ax.quiver(X, Y, U-X, V-Y, angles='xy', scale_units='xy', scale=1)\n",
    "    else:\n",
    "        q = ax.quiver(X, Y, U-X, V-Y, angles='xy')\n",
    "    return q\n",
    "\n",
    "def run_sim_2d(N0, M0, gen_fn, ngens, dtype='int', **kwargs):\n",
    "    assert(len(N0) == len(M0))\n",
    "    N = np.empty((ngens, len(N0)), dtype=dtype)\n",
    "    N[0, :] = N0\n",
    "    M = np.empty((ngens, len(M0)), dtype=dtype)\n",
    "    M[0, :] = M0\n",
    "    for t in range(1, ngens):\n",
    "        N[t, :], M[t, :] = gen_fn(N[t-1, :], M[t-1, :], **kwargs)\n",
    "    return N, M\n"
   ]
  },
  {
   "cell_type": "markdown",
   "metadata": {},
   "source": [
    "# Linear algebra, age structure, and eigenpopulations\n",
    "\n",
    "Next we'll be learning some *linear algebra*, which gives us\n",
    "the tools we need to generalize what we've done so far to higher dimensions.\n",
    "We'll follow Otto & Day in doing this in the context of \n",
    "*age* and *stage structured populations*.\n",
    "\n",
    "We're also going to focus on the *short term* dynamics of these populations:\n",
    "for reasons that will be clear later, we won't be concerned about long-term stability.\n"
   ]
  },
  {
   "cell_type": "markdown",
   "metadata": {},
   "source": [
    "# Linear algebra\n",
    "\n",
    "A quick intro on the board to:\n",
    "\n",
    "1. Vector addition (`+`): vectors as *displacements*\n",
    "2. Matrix-vector multiplication (`@`): square matrices as *transformations*\n",
    "3. Matrix-matrix multiplication (`@`): *composing* two transformations\n",
    "4. Matrices as systems of linear equations (`np.linalg.solve( )`)\n",
    "\n",
    "Problems: let\n",
    "$$\n",
    "  M = \\begin{bmatrix} 1 & 2 & 3 \\\\ 0 & 4 & 5 \\\\ 0 & 0 & 6 \\end{bmatrix}\n",
    "$$\n",
    "and\n",
    "$$\\begin{aligned}\n",
    " x = \\begin{bmatrix} 3 \\\\ -6 \\\\ 9 \\end{bmatrix}\n",
    " & \\qquad &\n",
    " y = \\begin{bmatrix} 1 \\\\ 1 \\\\ 1 \\end{bmatrix} .\n",
    "\\end{aligned}$$\n",
    "\n",
    "\n",
    "1. Find $x + y$.\n",
    "2. Find $M x$.\n",
    "3. Show that $M(x+y) = Mx + My$.\n",
    "4. Show that $M(Mx) = (M^2)x$.\n",
    "5. Find the vector $u$ so that $Mu = x$."
   ]
  },
  {
   "cell_type": "code",
   "execution_count": null,
   "metadata": {},
   "outputs": [],
   "source": []
  },
  {
   "cell_type": "code",
   "execution_count": 8,
   "metadata": {},
   "outputs": [
    {
     "data": {
      "text/plain": [
       "(array([18, 21, 54]), [18, 21, 54])"
      ]
     },
     "execution_count": 8,
     "metadata": {},
     "output_type": "execute_result"
    }
   ],
   "source": [
    "x = np.array([3, -6, 9])\n",
    "y = np.array([1, 1, 1])\n",
    "M = np.array([[1, 2, 3], [0, 4, 5], [0, 0, 6]])\n",
    "M @ x, [sum(M[0] * x), sum(M[1] * x), sum(M[2] * x)]"
   ]
  },
  {
   "cell_type": "code",
   "execution_count": 8,
   "metadata": {},
   "outputs": [
    {
     "data": {
      "text/plain": [
       "(array([18, 21, 54]), [18, 21, 54])"
      ]
     },
     "execution_count": 8,
     "metadata": {},
     "output_type": "execute_result"
    }
   ],
   "source": [
    "x = np.array([3, -6, 9])\n",
    "y = np.array([1, 1, 1])\n",
    "M = np.array([[1, 2, 3], [0, 4, 5], [0, 0, 6]])\n",
    "M @ x, [sum(M[0] * x), sum(M[1] * x), sum(M[2] * x)]"
   ]
  },
  {
   "cell_type": "code",
   "execution_count": 9,
   "metadata": {},
   "outputs": [
    {
     "name": "stdout",
     "output_type": "stream",
     "text": [
      "Help on function solve in module numpy.linalg:\n",
      "\n",
      "solve(a, b)\n",
      "    Solve a linear matrix equation, or system of linear scalar equations.\n",
      "    \n",
      "    Computes the \"exact\" solution, `x`, of the well-determined, i.e., full\n",
      "    rank, linear matrix equation `ax = b`.\n",
      "    \n",
      "    Parameters\n",
      "    ----------\n",
      "    a : (..., M, M) array_like\n",
      "        Coefficient matrix.\n",
      "    b : {(..., M,), (..., M, K)}, array_like\n",
      "        Ordinate or \"dependent variable\" values.\n",
      "    \n",
      "    Returns\n",
      "    -------\n",
      "    x : {(..., M,), (..., M, K)} ndarray\n",
      "        Solution to the system a x = b.  Returned shape is identical to `b`.\n",
      "    \n",
      "    Raises\n",
      "    ------\n",
      "    LinAlgError\n",
      "        If `a` is singular or not square.\n",
      "    \n",
      "    Notes\n",
      "    -----\n",
      "    \n",
      "    .. versionadded:: 1.8.0\n",
      "    \n",
      "    Broadcasting rules apply, see the `numpy.linalg` documentation for\n",
      "    details.\n",
      "    \n",
      "    The solutions are computed using LAPACK routine _gesv\n",
      "    \n",
      "    `a` must be square and of full-rank, i.e., all rows (or, equivalently,\n",
      "    columns) must be linearly independent; if either is not true, use\n",
      "    `lstsq` for the least-squares best \"solution\" of the\n",
      "    system/equation.\n",
      "    \n",
      "    References\n",
      "    ----------\n",
      "    .. [1] G. Strang, *Linear Algebra and Its Applications*, 2nd Ed., Orlando,\n",
      "           FL, Academic Press, Inc., 1980, pg. 22.\n",
      "    \n",
      "    Examples\n",
      "    --------\n",
      "    Solve the system of equations ``3 * x0 + x1 = 9`` and ``x0 + 2 * x1 = 8``:\n",
      "    \n",
      "    >>> a = np.array([[3,1], [1,2]])\n",
      "    >>> b = np.array([9,8])\n",
      "    >>> x = np.linalg.solve(a, b)\n",
      "    >>> x\n",
      "    array([ 2.,  3.])\n",
      "    \n",
      "    Check that the solution is correct:\n",
      "    \n",
      "    >>> np.allclose(np.dot(a, x), b)\n",
      "    True\n",
      "\n"
     ]
    }
   ],
   "source": [
    "help(np.linalg.solve)"
   ]
  },
  {
   "cell_type": "code",
   "execution_count": 20,
   "metadata": {},
   "outputs": [
    {
     "name": "stdout",
     "output_type": "stream",
     "text": [
      "1. x+y [ 4 -5 10]\n",
      "2. Mx [18 21 54]\n",
      "3. M(x+y) == Mx + My [24 30 60] [24 30 60]\n",
      "4. M(Mx) == (MM) x [222 354 324] [222 354 324]\n",
      "Mu=x, u= [ 5.25  -3.375  1.5  ]\n",
      "Mu [ 3. -6.  9.]\n"
     ]
    }
   ],
   "source": [
    "#1 \n",
    "print(\"1. x+y\", x + y)\n",
    "#2\n",
    "print(\"2. Mx\", M @ x)\n",
    "#3\n",
    "print(\"3. M(x+y) == Mx + My\", M@(x+y), M@x + M@y)\n",
    "assert(np.all(M@(x+y) == M@x + M@y))\n",
    "#4\n",
    "print(\"4. M(Mx) == (MM) x\", M@(M@x), (M@M)@x)\n",
    "assert(np.all(M@(M@x) == (M@M)@x))\n",
    "#5\n",
    "u = np.linalg.solve(M, x)\n",
    "print(\"Mu=x, u=\", u)\n",
    "print(\"Mu\", M@u)\n",
    "assert(np.all(M@u == x))"
   ]
  },
  {
   "cell_type": "markdown",
   "metadata": {},
   "source": [
    "\n",
    "# Life stages (aka class-structured populations)\n",
    "\n",
    "Let's go back to thinking about a single species,\n",
    "but keeping track not just of how many individuals there are,\n",
    "but also what *life stage* or *class* they are all in.\n",
    "We *could* keep track of this just as a list of life stages -\n",
    "if there are $N$ individuals, this would be a list of $N$ numbers.\n",
    "But it's tidier to keep track of the *census*:\n",
    "for each possible class, how many individual are there of that age?\n",
    "We'll write that as follows:\n",
    "$$\n",
    "  N_k(t) = \\text{(number of class-$k$ individuals alive at time $t$)} .\n",
    "$$\n"
   ]
  },
  {
   "cell_type": "markdown",
   "metadata": {},
   "source": [
    "## Example: juveniles/adults\n",
    "\n",
    "Let's start with the simplest example.\n",
    "- Every individual is either *juvenile* (class $J$) or *adult* (class $A$).\n",
    "- Juveniles *mature* into adults with probability $p_j$, or else die.\n",
    "- Adults give birth to on average $b$ offspring per time step, and\n",
    "- survive to the next time step with probability $p_a$.\n",
    "\n",
    "The discrete-time (deterministic) equation is\n",
    "$$ \\begin{aligned}\n",
    "  N_J(t+1) &= 0 N_J(t) +  b N_A(t) \\\\\n",
    "  N_A(t+1) &= p_j N_J(t) + p_a N_A(t) .\n",
    "\\end{aligned} $$\n",
    "Using the matrix\n",
    "$$\\begin{aligned}\n",
    "M =\n",
    "\\begin{array}{c c} & \\begin{array}{@{} c c @{}} J\\hphantom{0} & \\hphantom{0}A \\end{array} \\\\\n",
    "    \\begin{array}{c} J \\\\ A \\end{array}\\hspace{-1em} &\n",
    "    \\left(\n",
    "        \\begin{array}{@{} c  @{}}\n",
    "        0 & b \\\\\n",
    "        p_j & p_a\n",
    "        \\end{array}\n",
    "    \\right) \\\\ \\mbox{} \\end{array} \\\\[-12pt] ,\n",
    "\\end{aligned}$$\n",
    "and $N = (N_J, N_A)$,\n",
    "we can write this same system of equations concisely as\n",
    "$$\n",
    "N(t+1) = M N(t) .\n",
    "$$"
   ]
  },
  {
   "cell_type": "markdown",
   "metadata": {},
   "source": [
    "**What's this system do?**"
   ]
  },
  {
   "cell_type": "code",
   "execution_count": 21,
   "metadata": {},
   "outputs": [
    {
     "name": "stdout",
     "output_type": "stream",
     "text": [
      "[[ 0.  10. ]\n",
      " [ 0.1  0.2]]\n"
     ]
    }
   ],
   "source": [
    "# The parameters\n",
    "b = 10\n",
    "pj = 0.1\n",
    "pa = 0.2\n",
    "M = np.array([[0, b], [pj, pa]])\n",
    "print(M)"
   ]
  },
  {
   "cell_type": "code",
   "execution_count": 24,
   "metadata": {},
   "outputs": [
    {
     "name": "stdout",
     "output_type": "stream",
     "text": [
      "[90.   1.9]\n"
     ]
    }
   ],
   "source": [
    "# suppose we start with one juvenile and 9 adults?\n",
    "print(M @ np.array([1, 9]))"
   ]
  },
  {
   "cell_type": "code",
   "execution_count": 25,
   "metadata": {},
   "outputs": [
    {
     "data": {
      "image/png": "[encoded data removed]",
      "text/plain": [
       "<Figure size 720x360 with 1 Axes>"
      ]
     },
     "metadata": {
      "needs_background": "light"
     },
     "output_type": "display_data"
    }
   ],
   "source": [
    "# iterate these equations\n",
    "N0 = [1, 9]\n",
    "ntimes = 20\n",
    "N = np.empty((ntimes, 2), dtype='float')\n",
    "N[0,:] = N0\n",
    "for j in range(1, ntimes):\n",
    "    N[j, :] = M @ N[j-1, :]\n",
    "    \n",
    "fig, ax = plt.subplots()\n",
    "ax.plot(N)\n",
    "ax.set_xlabel(\"time\")\n",
    "ax.set_ylabel(\"numbers\")\n",
    "ax.legend(['juveniles', 'adults']);"
   ]
  },
  {
   "cell_type": "code",
   "execution_count": 28,
   "metadata": {},
   "outputs": [
    {
     "data": {
      "image/png": "[encoded data removed]",
      "text/plain": [
       "<Figure size 720x360 with 1 Axes>"
      ]
     },
     "metadata": {
      "needs_background": "light"
     },
     "output_type": "display_data"
    }
   ],
   "source": [
    "# plot the ratio of juveniles to adults\n",
    "    \n",
    "fig, ax = plt.subplots()\n",
    "ax.plot(N[1:,0]/N[1:,1])\n",
    "ax.set_xlabel(\"time\")\n",
    "ax.set_ylabel(\"ratio\")\n",
    "ax.legend(['juveniles/adults']);"
   ]
  },
  {
   "cell_type": "markdown",
   "metadata": {},
   "source": [
    "# Eigendirections\n",
    "\n",
    "*Eigenvectors* of a matrix are directions *unchanged* by its transformation.\n",
    "In symbols, this is\n",
    "$$\n",
    "  Mv = \\lambda v\n",
    "$$\n",
    "where $\\lambda$ is a *number*, called the *eigenvalue*.\n",
    "\n",
    "Exercises:\n",
    "\n",
    "1. Check that $(1, 0)$ and $(0, 1)$ are eigenvectors of\n",
    "    $$\n",
    "    M = \\begin{bmatrix} 2 & 0 \\\\ 0 & 3 \\end{bmatrix} .\n",
    "    $$\n",
    "    What are the eigenvalues?\n",
    "\n",
    "2. Use `np.linalg.eig( )` to find the eigenvalues and vectors of \n",
    "    $$\n",
    "      M = \\begin{bmatrix} 1 & 2 & 3 \\\\ 0 & 4 & 5 \\\\ 0 & 0 & 6 \\end{bmatrix}\n",
    "    $$\n",
    "    Double-check the equation holds.\n",
    "\n",
    "3. The formula corresponding to \"change into the coordinates of the eigenvectors,\n",
    "    multiply by the eigenvalues, and change coordinates back\" is\n",
    "    $$\n",
    "      M = U \\text{diag}(\\lambda) U^{-1} ,\n",
    "    $$\n",
    "    where $U^{-1}$ is the *inverse matrix* (`scipy.linalg.solve(U, np.eye(U.shape[0]))`)\n",
    "    and $\\text{diag}(\\lambda)$ is the matrix with the values of $\\lambda$ on the diagonal\n",
    "    and zeros elsewhere.\n",
    "    Check this holds.\n"
   ]
  },
  {
   "cell_type": "code",
   "execution_count": 32,
   "metadata": {},
   "outputs": [
    {
     "data": {
      "text/plain": [
       "(array([2, 0]), array([2, 0]))"
      ]
     },
     "execution_count": 32,
     "metadata": {},
     "output_type": "execute_result"
    }
   ],
   "source": [
    "#1\n",
    "M = np.array([[2, 0], [0, 3]])\n",
    "M @ np.array([1, 0]), 2 * np.array([1, 0]) # eigenvector with e'value 2"
   ]
  },
  {
   "cell_type": "code",
   "execution_count": 43,
   "metadata": {},
   "outputs": [
    {
     "name": "stdout",
     "output_type": "stream",
     "text": [
      "k = 0 1.0 [1. 0. 0.] [1. 0. 0.]\n",
      "k = 1 4.0 [2.21880078 3.32820118 0.        ] [2.21880078 3.32820118 0.        ]\n",
      "k = 2 6.0 [3.06504411 4.78913143 1.91565257] [3.06504411 4.78913143 1.91565257]\n"
     ]
    }
   ],
   "source": [
    "# 2\n",
    "M = np.array([[1, 2, 3], [0, 4, 5], [0, 0, 6]])\n",
    "values, vectors = np.linalg.eig(M)\n",
    "# check:\n",
    "for k in range(3):\n",
    "    print(\"k = {}\".format(k), values[k], vectors[:, k] * values[k], M@vectors[:,k])"
   ]
  },
  {
   "cell_type": "code",
   "execution_count": 46,
   "metadata": {},
   "outputs": [
    {
     "name": "stdout",
     "output_type": "stream",
     "text": [
      "U lam Uinv:\n",
      " [[1.+0.j 2.+0.j 3.+0.j]\n",
      " [0.+0.j 4.+0.j 5.+0.j]\n",
      " [0.+0.j 0.+0.j 6.+0.j]]\n",
      "M:\n",
      " [[1 2 3]\n",
      " [0 4 5]\n",
      " [0 0 6]]\n",
      "U: [[1.         0.5547002  0.51084069]\n",
      " [0.         0.83205029 0.79818857]\n",
      " [0.         0.         0.31927543]]\n",
      "diag(lam) [[1.+0.j 0.+0.j 0.+0.j]\n",
      " [0.+0.j 4.+0.j 0.+0.j]\n",
      " [0.+0.j 0.+0.j 6.+0.j]]\n",
      "U inverse: [[ 1.         -0.66666667  0.06666667]\n",
      " [ 0.          1.20185043 -3.00462606]\n",
      " [ 0.          0.          3.13209195]]\n"
     ]
    }
   ],
   "source": [
    "lam, U = linalg.eig(M)\n",
    "U_inv = linalg.solve(U, np.eye(U.shape[0]))\n",
    "print(\"U lam Uinv:\\n\", U @ np.diag(lam) @ U_inv)\n",
    "print(\"M:\\n\", M)\n",
    "print(\"U:\", U)\n",
    "print(\"diag(lam)\", np.diag(lam))\n",
    "print(\"U inverse:\", U_inv)"
   ]
  },
  {
   "cell_type": "markdown",
   "metadata": {},
   "source": [
    "### Example: eigenvectors\n",
    "\n",
    "Here's the vector field defined by the transformation we get from\n",
    "$$\n",
    "  M = \\begin{bmatrix} 2 & 1 \\\\ 1/2 & 1 \\end{bmatrix} ,\n",
    "$$\n",
    "with the eigenvector directions superimposed."
   ]
  },
  {
   "cell_type": "code",
   "execution_count": null,
   "metadata": {},
   "outputs": [],
   "source": [
    "M = np.array([[2, 1], [1/2, 1]])\n",
    "lam, U = linalg.eig(M)\n",
    "\n",
    "def lin_transform(X, Y, M):\n",
    "    out = M @ np.row_stack([X, Y])\n",
    "    return out[0, :], out[1, :]\n",
    "\n",
    "plt.rcParams['figure.figsize'] = [8, 8]\n",
    "fig, ax = plt.subplots()\n",
    "phase_plot(lin_transform, [-1, 1], [-1, 1], 20, 20, ax=ax, M=M)\n",
    "plt.axis(\"equal\")\n",
    "for x, y in U.T:\n",
    "    ax.plot([-x, x], [-y, y])\n",
    "\n",
    "fig.legend(['evector1', 'evector2']);"
   ]
  },
  {
   "cell_type": "markdown",
   "metadata": {},
   "source": [
    "## Eigenanalysis of a stage-structured model\n",
    "\n",
    "We're going to find the time course of the linear model\n",
    "$$\n",
    "   N(t) = M^t N(0) ,\n",
    "$$\n",
    "using the eigendecomposition of $M$.\n",
    "If we can do an eigendecomposition, it looks like \n",
    "$$\n",
    "  M = U \\text{diag}(\\lambda) U^{-1} ,\n",
    "$$\n",
    "and so\n",
    "$$\n",
    "  M^t = U \\text{diag}(\\lambda^t) U^{-1} .\n",
    "$$\n",
    "\n",
    "Written out, this says that to find the vector $N(t)$, we need to\n",
    "\n",
    "1. Find the eigenvector loadings of the initial state:\n",
    "   $$ V(0) = U^{-1} N(0) . $$\n",
    "   These say how strongly the initial state \"excites\" each of the eigendirections.\n",
    "  \n",
    "2. Multiply each of these loadings by the corresponding eigenvalue, $\\lambda$:\n",
    "   $$ V(t)_k = \\lambda_k^t V(0)_k . $$\n",
    "   These give the contributions of each eigendirection at time $t$.\n",
    "  \n",
    "3. Shift back to the original coordinates by multiplying by the matrix of eigenvectors, $U$:\n",
    "   $$ N(t) = U V(t) .$$\n",
    "\n"
   ]
  },
  {
   "cell_type": "markdown",
   "metadata": {},
   "source": [
    "### Eigenanalysis of the juvenile-adult example\n",
    "\n",
    "We'll apply this to the juvenile-adult model above."
   ]
  },
  {
   "cell_type": "code",
   "execution_count": null,
   "metadata": {},
   "outputs": [],
   "source": [
    "# The parameters\n",
    "b = 10\n",
    "pj = 0.1\n",
    "pa = 0.2\n",
    "M = np.array([[0, b], [pj, pa]])\n",
    "lam, U = linalg.eig(M)  # eigenvalue, vector\n",
    "\n",
    "# initial conditions\n",
    "N0 = [1, 9]\n",
    "\n",
    "ntimes = 20\n",
    "V = np.empty((ntimes, 2), dtype='complex')\n",
    "V[0, :] = linalg.solve(U, N0)\n",
    "for j in range(1, ntimes):\n",
    "    V[j, :] = np.power(lam, j) * V[0, :]\n",
    "   \n",
    "N = V @ U.T\n",
    "    \n",
    "fig, ax = plt.subplots()\n",
    "ax.plot(np.real(N))\n",
    "ax.set_xlabel(\"time\")\n",
    "ax.set_ylabel(\"numbers\")\n",
    "ax.legend(['juveniles', 'adults']);\n"
   ]
  },
  {
   "cell_type": "code",
   "execution_count": null,
   "metadata": {},
   "outputs": [],
   "source": [
    "fig, ax = plt.subplots()\n",
    "ax.plot(np.real(V))\n",
    "ax.set_xlabel(\"time\")\n",
    "ax.set_ylabel(\"contribution\")\n",
    "ax.legend(['evector0', 'evector1']);\n",
    "print(U)"
   ]
  },
  {
   "cell_type": "markdown",
   "metadata": {},
   "source": [
    "\n",
    "## Example: right whales\n",
    "\n",
    "For instance, the classes for females in a right whale population model were:\n",
    "\n",
    "- class `C`: calves\n",
    "- class `I`: immature\n",
    "- class `M`: mature\n",
    "- class `R`: reproductive\n",
    "\n",
    "Individuals transition from calf to immature in one year;\n",
    "can stay immature for more than one year;\n",
    "then transition between mature and reproductive as adults.\n",
    "Each class has a separate death rate,\n",
    "and only reproductive individuals produce new offspring.\n",
    "The parameters of the model are concisely encoded\n",
    "in the following matrix:\n",
    "$$\n",
    "S =\n",
    "\\begin{array}{c c} & \\begin{array}{@{} c c c c @{}} C\\hphantom{0} & I\\hphantom{0} & \\hphantom{0}M & \\hphantom{0}R \\end{array} \\\\\n",
    "    \\begin{array}{c} C \\\\ I \\\\ M \\\\ R \\end{array}\\hspace{-1em} &\n",
    "    \\left(\n",
    "        \\begin{array}{@{} c c c c @{}}\n",
    "        0 & 0 & 0 & b \\\\\n",
    "        s_{IC} & s_{II} & 0 & 0 \\\\\n",
    "        0 & s_{MI} & s_{MM} & s_{MR} \\\\\n",
    "        0 & s_{RI} & s_{RM} & s_{RR} \n",
    "        \\end{array}\n",
    "    \\right) \\\\ \\mbox{} \\end{array} \\\\[-12pt] \n",
    "$$\n",
    "There are nine parameters.\n",
    "All the $s_{XY}$ parameters have the same interpretation: they give the probability\n",
    "that a given individual *currently in class $Y$* will be *in class $X$* next time step.\n",
    "For instance, a calf will either\n",
    "- become immature (with probability $s_{IC}$, or\n",
    "- die (otherwise),\n",
    "\n",
    "while a mature individual will either\n",
    "- stay immature (probability $s_{II}$),\n",
    "- become mature (probability $s_{MI}$), or\n",
    "- become reproductive ($s_{RI}$).\n",
    "\n",
    "The remaining parameter, $b$, is the mean number of *births* per reproductive individual per year."
   ]
  },
  {
   "cell_type": "code",
   "execution_count": null,
   "metadata": {},
   "outputs": [],
   "source": [
    "whale_args = {\n",
    "    \"s_ic\" : 0.92,\n",
    "    \"s_ii\" : 0.86,\n",
    "    \"s_mi\" : 0.08,\n",
    "    \"s_mm\" : 0.8,\n",
    "    \"s_mr\" : 1 - 0.12,\n",
    "    \"s_ri\" : 0.02,\n",
    "    \"s_rm\" : 0.19,\n",
    "    \"s_rr\" : 0,\n",
    "    \"b\" : 0.3\n",
    "}"
   ]
  },
  {
   "cell_type": "code",
   "execution_count": null,
   "metadata": {},
   "outputs": [],
   "source": [
    "def make_S(s_ic, s_ii, s_mi, s_mm, s_mr, s_ri, s_rm, s_rr, b):\n",
    "    S = np.array([[0, 0, 0, b],\n",
    "                  [s_ic, s_ii, 0, 0],\n",
    "                  [0, s_mi, s_mm, s_mr],\n",
    "                  [0, s_ri, s_rm, s_rr]])\n",
    "    return S\n",
    "\n",
    "S = make_S(**whale_args)\n",
    "\n",
    "evals, evecs = linalg.eig(S)\n",
    "print(evals)\n",
    "\n",
    "def top_eig(b):\n",
    "    # compute and return the largest eigenvalue from S\n",
    "    args = whale_args\n",
    "    args['b'] = b\n",
    "    S = make_S(**args)\n",
    "    evals, evecs = linalg.eig(S)\n",
    "    return evals[np.argmax(evals)]\n",
    "\n",
    "bvals = np.linspace(0.01, 1.0, 20)\n",
    "eigs = [top_eig(b) for b in bvals]\n",
    "\n",
    "plt.scatter(bvals, np.real(eigs))\n",
    "plt.xlabel(\"fecundity (b)\")\n",
    "plt.ylabel(\"top eigenvalue\")\n",
    "plt.axhline(1.0);"
   ]
  },
  {
   "cell_type": "markdown",
   "metadata": {},
   "source": [
    "That predicts that at $b=0.2$, the population will die out (slowly, decreasing to $\\approx$ 99% per year),\n",
    "and above $b=0.3$ it will not (again, increasing slowly).\n",
    "Let's see."
   ]
  },
  {
   "cell_type": "code",
   "execution_count": null,
   "metadata": {},
   "outputs": [],
   "source": [
    "# initial conditions\n",
    "N0 = [10, 10, 10, 20]\n",
    "\n",
    "ntimes = 40\n",
    "N = np.empty((ntimes, S.shape[0]), dtype='float')\n",
    "N[0, :] = N0\n",
    "for j in range(1, ntimes):\n",
    "    N[j, :] = S @ N[j-1, :]\n",
    "   \n",
    "  \n",
    "fig, ax = plt.subplots()\n",
    "ax.plot(N)\n",
    "ax.set_xlabel(\"time\")\n",
    "ax.set_ylabel(\"numbers\")\n",
    "ax.legend(['juvenile', 'immature', \"mature\", \"reproductive\"]);\n",
    "\n",
    "# over this time we expect the population to have grown by a factor of\n",
    "np.real(evals[0]) ** ntimes"
   ]
  },
  {
   "cell_type": "code",
   "execution_count": null,
   "metadata": {},
   "outputs": [],
   "source": [
    "bad_whale_args = whale_args\n",
    "bad_whale_args['b'] = 0.2\n",
    "S_bad = make_S(**bad_whale_args)\n",
    "bevals, bevecs = linalg.eig(S_bad)\n",
    "\n",
    "N0 = [100, 100, 100, 100]\n",
    "ntimes = 200\n",
    "bN = np.empty((ntimes, S.shape[0]), dtype='float')\n",
    "bN[0, :] = N0\n",
    "for j in range(1, ntimes):\n",
    "    bN[j, :] = S_bad @ bN[j-1, :]\n",
    "   \n",
    "  \n",
    "fig, ax = plt.subplots()\n",
    "ax.plot(bN)\n",
    "ax.set_xlabel(\"time\")\n",
    "ax.set_ylabel(\"numbers\")\n",
    "ax.legend(['juvenile', 'immature', \"mature\", \"reproductive\"]);\n",
    "\n",
    "# over this time we expect the population to have grown by a factor of\n",
    "np.real(bevals[np.argmax(bevals)]) ** ntimes"
   ]
  },
  {
   "cell_type": "code",
   "execution_count": null,
   "metadata": {},
   "outputs": [],
   "source": [
    "print(evecs[:,0] / sum(evecs[:,0]))\n",
    "print(linalg.eig(S.T))"
   ]
  },
  {
   "cell_type": "markdown",
   "metadata": {},
   "source": [
    "## Stable age distributions\n",
    "\n",
    "Clearly, there's some nonequilibrium stuff going on at the start of those simulations.\n",
    "I chose starting age distributions that weren't natural at all -- too many juveniles,\n",
    "given the long lifetimes of adults and relatively low birth rates.\n",
    "How could we have predicted this?\n",
    "\n",
    "It turns out that in a linear model, the long-term behavior is governed\n",
    "by the \"top\" eigenvalue and its eigenvectors.\n",
    "Call $\\lambda_0$ the largest eigenvalue (largest in absolute value; it is always real);\n",
    "and $v$ the corresponding eigenvector.\n",
    "Then\n",
    "\n",
    "1. The long-term growth rate of the entire population is $\\lambda_0$,\n",
    "    i.e., $\\sum_j N_j(t)$ grows like $\\lambda_0^t$.\n",
    "   \n",
    "2. The long-term *age distribution* is proportional to $v$,\n",
    "    i.e., $$ \\frac{N_j(t) }{ \\sum_k N_k(t) } \\approx \\frac{ v_j }{ \\sum_k v_k }.$$\n",
    "\n",
    "Let's check this in the whale model above."
   ]
  },
  {
   "cell_type": "code",
   "execution_count": null,
   "metadata": {},
   "outputs": [],
   "source": [
    "evecs[:, 0]"
   ]
  },
  {
   "cell_type": "code",
   "execution_count": null,
   "metadata": {},
   "outputs": [],
   "source": [
    "# good parameters\n",
    "fig, ax = plt.subplots()\n",
    "ax.hlines(evecs[:, 0]/sum(evecs[:, 0]), xmin=-5, xmax=45)\n",
    "ax.plot(N / N.sum(axis=1, keepdims=True));"
   ]
  },
  {
   "cell_type": "code",
   "execution_count": null,
   "metadata": {},
   "outputs": [],
   "source": [
    "# good parameters\n",
    "fig, ax = plt.subplots()\n",
    "ax.hlines(bevecs[:, 0]/sum(bevecs[:, 0]), xmin=-5, xmax=45)\n",
    "ax.plot(bN / bN.sum(axis=1, keepdims=True));"
   ]
  },
  {
   "cell_type": "markdown",
   "metadata": {},
   "source": [
    "# Homework\n",
    "\n",
    "Modify the whale model to include randomness. See how well the growth rate and long-term age structure match the deterministic predictions. (They should match quite well!)"
   ]
  },
  {
   "cell_type": "markdown",
   "metadata": {},
   "source": [
    "# Application to nonlinear systems\n",
    "\n",
    "The theory above lets us analyze *nonlinear* systems by *linearizing* about fixed points.\n",
    "We'll do this in a simple **predator-prey** model:\n",
    "\n",
    "- $\\theta$ : prey immigration rate\n",
    "- $a$ : predator-prey contact (and consumption) rate\n",
    "- $\\epsilon$ : predator conversion efficiency\n",
    "- $\\delta$ : predator death rate\n",
    "\n",
    "The deterministic differential equations are\n",
    "$$\\begin{aligned}\n",
    "\\frac{d n_1}{dt} &= \\theta - a n_1 n_2 \\\\\n",
    "\\frac{d n_2}{dt} &= \\epsilon a n_1 n_2 - \\delta n_2 .\n",
    "\\end{aligned}$$\n",
    "\n",
    "**Exercise:** which is the prey and which is the predator?"
   ]
  },
  {
   "cell_type": "markdown",
   "metadata": {},
   "source": [
    "## Stable points\n",
    "\n",
    "To get stable points, we need to solve for when predator and prey numbers do not change.\n",
    "Predator numbers do not change if $dn_2/dt = 0$, i.e., if\n",
    "$$\n",
    "   n_2 (\\epsilon a n_1 - \\delta) = 0 .\n",
    "$$\n",
    "This happens if either $n_2 = 0$ (naturally),\n",
    "or if $n_1 = \\delta / (\\epsilon a)$.\n",
    "Prey numbers do not change if $dn_1/dt = 0$, i.e., if\n",
    "$$\n",
    "  n_2 = \\theta / (a n_1) .\n",
    "$$\n",
    "Putting this together, we have two equilibria: zero, and\n",
    "$$\\begin{aligned}\n",
    "  n_1^* &= \\frac{\\delta}{\\epsilon a} \\\\\n",
    "  n_2^* &= \\frac{\\theta \\epsilon}{\\delta} .\n",
    "\\end{aligned}$$\n"
   ]
  },
  {
   "cell_type": "code",
   "execution_count": null,
   "metadata": {},
   "outputs": [],
   "source": [
    "def pp_eqn(N, M, dt, theta, a, eps, delta):\n",
    "    next_N = N + dt * (theta - a * N * M)\n",
    "    next_M = M + dt * (eps * a * N * M - delta * M)\n",
    "    return next_N, next_M\n",
    "\n",
    "def pp_equil(theta, a, eps, delta):\n",
    "    return delta / (eps * a), theta * eps / delta\n",
    "\n",
    "pp_args = {'theta' : 10,\n",
    "           'a' : 0.1,\n",
    "           'eps' : 1.0,\n",
    "           'delta' : 0.3}\n",
    "equil = pp_equil(**pp_args)\n",
    "\n",
    "tN, tM = run_sim_2d([20], [2], pp_eqn, 200, dtype='float',\n",
    "                    dt=0.1, **pp_args)\n",
    "\n",
    "\n",
    "plt.rcParams['figure.figsize'] = [10, 10]\n",
    "fig, ax = plt.subplots()\n",
    "phase_plot(pp_eqn, xlim=[0, 40], ylim=[0, 40], nx=20, ny=20, scale=True,\n",
    "           ax=ax, dt=0.1, **pp_args)\n",
    "ax.plot(tN, tM)\n",
    "ax.scatter(tN, tM)\n",
    "ax.scatter(equil[0], equil[1], s=1000, c='g', alpha=0.5)\n",
    "ax.axis('equal')\n",
    "plt.xlabel(\"prey\")\n",
    "plt.ylabel(\"predators\");\n"
   ]
  },
  {
   "cell_type": "markdown",
   "metadata": {},
   "source": [
    "### Local approximations\n",
    "\n",
    "Ok, so what's going on near that equilibrium?\n",
    "Let's reparameterize, so that $x_1$ is the deviation of numbers of prey from equilibrium,\n",
    "and $x_2$ is the deviation of the number of predators:\n",
    "$$\\begin{aligned}\n",
    "  n_1 &= n_1^* + x_1 \\\\\n",
    "  n_2 &= n_2^* + x_2\n",
    "\\end{aligned}$$\n",
    "The deterministic differential equations are, rewritten:\n",
    "$$\\begin{aligned}\n",
    "\\frac{d x_1}{dt} &= \\theta - a (n_1^* + x_1) (n_2^* + x_2) \\\\\n",
    "                 &= \\theta - a n_1^* n_2^* - a (n_1^* x_2 + x_1 n_2^* + x_1 x_2) \\\\\n",
    "                 &= - a (n_1^* x_2 + x_1 n_2^* + x_1 x_2) \\\\\n",
    "                 &\\approx - a (n_1^* x_2 + x_1 n_2^*) \\\\\n",
    "                 &= - \\frac{a \\epsilon \\theta }{ \\delta } x_1 - \\frac{ \\delta }{ \\epsilon } x_2 \\\\\n",
    "\\frac{d x_2}{dt} &= \\left(\\epsilon a (n_1^* + x_1) - \\delta \\right) (n_2^* + x_2) \\\\\n",
    "                 &= \\left(\\epsilon a n_1^* - \\delta\\right) n_2^* + \\epsilon a x_1 n_2^* - \\delta x_2 + a x_1 x_2 \\\\\n",
    "                 &\\approx \\left(\\epsilon a n_1^* - \\delta \\right) x_2 + \\epsilon a x_1 n_2^* \\\\\n",
    "                 &= \\frac{\\epsilon^2 a \\theta }{ \\delta} x_1 .\n",
    "\\end{aligned}$$\n",
    "The steps here are (1) use the fact that $(n_1^*, n_2^*)$ is an equilibrium (so some terms become zero),\n",
    "and (2) only keeping terms to *first order* in $x_1$ and $x_2$.\n",
    "\n",
    "This says that, if the system is near the nonzero equilibrium,\n",
    "it acts like the *linear* system whose matrix is\n",
    "$$\n",
    "  J = \\begin{bmatrix} \n",
    "    - \\frac{a \\epsilon \\theta }{ \\delta } & - \\frac{ \\delta }{ \\epsilon } \\\\\n",
    "     \\frac{\\epsilon^2 a \\theta }{ \\delta} & 0 \n",
    "   \\end{bmatrix}\n",
    "$$"
   ]
  },
  {
   "cell_type": "code",
   "execution_count": null,
   "metadata": {},
   "outputs": [],
   "source": [
    "def pp_approx_eqn(N, M, dt, theta, a, eps, delta):\n",
    "    equil = pp_equil(theta, a, eps, delta)\n",
    "    J = np.array([[- a * eps * theta / delta, - delta / eps], [eps * eps * a * theta / delta, 0]])\n",
    "    old_X = N - equil[0]\n",
    "    old_Y = M - equil[1]\n",
    "    dX, dY = dt * J @ np.row_stack([old_X, old_Y])\n",
    "    next_N = N + dX\n",
    "    next_M = M + dY\n",
    "    return next_N, next_M\n",
    "\n",
    "pp_args = {'theta' : 10,\n",
    "           'a' : 0.1,\n",
    "           'eps' : 1.0,\n",
    "           'delta' : 0.3}\n",
    "equil = pp_equil(**pp_args)\n",
    "\n",
    "W = 3.0\n",
    "tN, tM = run_sim_2d([equil[0] + W], [equil[1]], pp_eqn, 200, dtype='float',\n",
    "                    dt=0.1, **pp_args)\n",
    "aN, aM = run_sim_2d([equil[0] + W], [equil[1]], pp_approx_eqn, 200, dtype='float',\n",
    "                    dt=0.1, **pp_args)\n",
    "\n",
    "plt.rcParams['figure.figsize'] = [10, 10]\n",
    "fig, ax = plt.subplots()\n",
    "phase_plot(pp_eqn, xlim=[equil[0] - W, equil[0] + W], \n",
    "           ax=ax, ylim=[equil[1] - W, equil[1] + W], nx=20, ny=20, scale=True,\n",
    "           dt=0.1, **pp_args)\n",
    "q = phase_plot(pp_approx_eqn, xlim=[equil[0] - W, equil[0] + W], \n",
    "               ax=ax, ylim=[equil[1] - W, equil[1] + W], nx=20, ny=20, scale=False,\n",
    "               dt=0.1, **pp_args)\n",
    "q.set(color = 'm')\n",
    "ax = fig.gca()\n",
    "ax.plot(tN, tM)\n",
    "ax.scatter(tN, tM)\n",
    "ax.plot(aN, aM)\n",
    "ax.scatter(aN, aM)\n",
    "ax.scatter(equil[0], equil[1], s=1000, c='g', alpha=0.5)\n",
    "ax.axis('equal')\n",
    "plt.xlabel(\"prey\")\n",
    "plt.ylabel(\"predators\");\n"
   ]
  },
  {
   "cell_type": "markdown",
   "metadata": {},
   "source": [
    "## Stability analysis\n",
    "\n",
    "Let's see now how the eigenvalues of $J$ change as we adjust $\\delta$.\n",
    "\n",
    "- If all eigenvalues have negative Real part, the equilibrium is a *sink*.\n",
    "- If any eigenvalues have nonzero Imaginary part, the equilibrium has an oscillatory component."
   ]
  },
  {
   "cell_type": "code",
   "execution_count": null,
   "metadata": {},
   "outputs": [],
   "source": [
    "def pp_eigs(theta, a, eps, delta):\n",
    "    equil = pp_equil(theta, a, eps, delta)\n",
    "    J = np.array([[-a * eps * theta / delta, - delta / eps], [eps * eps * a * theta / delta, 0]])\n",
    "    evals, evecs = linalg.eig(J)\n",
    "    return evals\n",
    "\n",
    "dvals = np.linspace(0.3, 2.0, 400)\n",
    "J_eigs = np.array([pp_eigs(pp_args['theta'], pp_args['a'], pp_args['eps'], delta)\n",
    "                   for delta in dvals])\n",
    "\n",
    "fig, ax = plt.subplots()\n",
    "ax.plot(np.real(J_eigs[:, 0]), np.imag(J_eigs[:, 0]))\n",
    "sc = ax.scatter(np.real(J_eigs[:, 0]), np.imag(J_eigs[:, 0]), \n",
    "                c=dvals, cmap=matplotlib.cm.jet, label='delta')\n",
    "ax.plot(np.real(J_eigs[:, 1]), np.imag(J_eigs[:, 1]))\n",
    "\n",
    "sc = ax.scatter(np.real(J_eigs[:, 1]), np.imag(J_eigs[:, 1]), \n",
    "                c=dvals, cmap=matplotlib.cm.jet, label='delta')\n",
    "fig.colorbar(sc)\n",
    "plt.xlabel(\"Real(evalue)\")\n",
    "plt.ylabel(\"Imag(evalue)\");"
   ]
  },
  {
   "cell_type": "markdown",
   "metadata": {},
   "source": [
    "**Ah-ha:** there is some value of $\\delta$ at which point the two eigenvalues hit each other,\n",
    "then move off in the imaginary axis!  For $\\delta$ above that point,\n",
    "the system should oscillate as it converges."
   ]
  },
  {
   "cell_type": "markdown",
   "metadata": {},
   "source": [
    "**Exercise:** Find the value of $\\delta$ at which the top eigenvalue of $J$ leaves the real line."
   ]
  },
  {
   "cell_type": "code",
   "execution_count": null,
   "metadata": {},
   "outputs": [],
   "source": [
    "# This should oscillate\n",
    "\n",
    "pp_args = {'theta' : 10,\n",
    "           'a' : 0.1,\n",
    "           'eps' : 1.0,\n",
    "           'delta' : 1.95}\n",
    "equil = pp_equil(**pp_args)\n",
    "\n",
    "W = 2.0\n",
    "tN, tM = run_sim_2d([equil[0] + W], [equil[1]], pp_eqn, 200, dtype='float',\n",
    "                    dt=0.1, **pp_args)\n",
    "aN, aM = run_sim_2d([equil[0] + W], [equil[1]], pp_approx_eqn, 200, dtype='float',\n",
    "                    dt=0.1, **pp_args)\n",
    "\n",
    "plt.rcParams['figure.figsize'] = [10, 10]\n",
    "fig, ax = plt.subplots()\n",
    "phase_plot(pp_eqn, xlim=[equil[0] - W, equil[0] + W], \n",
    "           ax=ax, ylim=[equil[1] - W, equil[1] + W], nx=20, ny=20, scale=True,\n",
    "           dt=0.1, **pp_args)\n",
    "q = phase_plot(pp_approx_eqn, xlim=[equil[0] - W, equil[0] + W], \n",
    "               ax=ax, ylim=[equil[1] - W, equil[1] + W], nx=20, ny=20, scale=False,\n",
    "               dt=0.1, **pp_args)\n",
    "q.set(color = 'm')\n",
    "ax = fig.gca()\n",
    "ax.plot(tN, tM)\n",
    "ax.scatter(tN, tM)\n",
    "ax.plot(aN, aM)\n",
    "ax.scatter(aN, aM)\n",
    "ax.scatter(equil[0], equil[1], s=1000, c='g', alpha=0.5)\n",
    "ax.axis('equal')\n",
    "plt.xlabel(\"prey\")\n",
    "plt.ylabel(\"predators\");\n"
   ]
  }
 ],
 "metadata": {
  "kernelspec": {
   "display_name": "Python 3",
   "language": "python",
   "name": "python3"
  },
  "language_info": {
   "codemirror_mode": {
    "name": "ipython",
    "version": 3
   },
   "file_extension": ".py",
   "mimetype": "text/x-python",
   "name": "python",
   "nbconvert_exporter": "python",
   "pygments_lexer": "ipython3",
   "version": "3.7.2"
  }
 },
 "nbformat": 4,
 "nbformat_minor": 2
}
